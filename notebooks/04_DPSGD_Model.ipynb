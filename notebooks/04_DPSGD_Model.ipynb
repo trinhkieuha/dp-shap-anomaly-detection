{
 "cells": [
  {
   "cell_type": "code",
   "execution_count": null,
   "metadata": {},
   "outputs": [],
   "source": [
    "# Set the working directory to the parent directory\n",
    "import sys\n",
    "sys.path.append('..')\n",
    "sys.dont_write_bytecode = True\n",
    "\n",
    "# Import relevant packages\n",
    "from src.eda import data_info\n",
    "from src.models import AutoencoderTrainer, AnomalyDetector, HybridLoss, AutoencoderTuner\n",
    "import pandas as pd\n",
    "import warnings\n",
    "import numpy as np\n",
    "from IPython.display import display\n",
    "import matplotlib.pyplot as plt\n",
    "from datetime import datetime\n",
    "\n",
    "# Config\n",
    "pd.set_option('display.max_columns', None) # Ensure all columns are displayed\n",
    "warnings.filterwarnings(\"ignore\")"
   ]
  },
  {
   "cell_type": "code",
   "execution_count": 3,
   "metadata": {},
   "outputs": [
    {
     "name": "stdout",
     "output_type": "stream",
     "text": [
      "Memory: 52.53 MB\n"
     ]
    }
   ],
   "source": [
    "import gc\n",
    "import psutil\n",
    "import os\n",
    "\n",
    "gc.collect()\n",
    "print(f\"Memory: {psutil.Process(os.getpid()).memory_info().rss / 1024**2:.2f} MB\")"
   ]
  },
  {
   "cell_type": "code",
   "execution_count": 39,
   "metadata": {},
   "outputs": [],
   "source": [
    "x = \"\"\"{'hidden_dims': [64], 'batch_size': 64, 'learning_rate': 0.02, 'lam': 0.0001, 'gamma': 0.2, 'dropout_rate': None, 'threshold': 0.1436689734458923} - 0.4862713887783526\n",
    "\t\t {'hidden_dims': [64], 'batch_size': 64, 'learning_rate': 0.05, 'lam': 0.0001, 'gamma': 0.2, 'dropout_rate': None, 'threshold': 0.11708818972110747} - 0.48229208117787503\n",
    "\t\t {'hidden_dims': [64], 'batch_size': 64, 'learning_rate': 0.1, 'lam': 0.001, 'gamma': 0.3, 'dropout_rate': None, 'threshold': 0.6085953474044795} - 0.471461716937355\n",
    "\t\t {'hidden_dims': [64], 'batch_size': 64, 'learning_rate': 0.02, 'lam': 0.001, 'gamma': 0.3, 'dropout_rate': None, 'threshold': 0.35411708354949945} - 0.4771189812972543\n",
    "\t\t {'hidden_dims': [64], 'batch_size': 64, 'learning_rate': 0.02, 'lam': 0.001, 'gamma': 0.25, 'dropout_rate': None, 'threshold': 0.17778273224830618} - 0.4687624353362515\n",
    "\t\t {'hidden_dims': [64], 'batch_size': 64, 'learning_rate': 0.1, 'lam': 0.0001, 'gamma': 0.3, 'dropout_rate': None, 'threshold': 0.34152468442916867} - 0.4731396736967768\n",
    "\t\t {'hidden_dims': [64], 'batch_size': 64, 'learning_rate': 0.02, 'lam': 0.01, 'gamma': 0.2, 'dropout_rate': None, 'threshold': 1.2014144897460937} - 0.4580183048149622\n",
    "\t\t {'hidden_dims': [64], 'batch_size': 64, 'learning_rate': 0.1, 'lam': 0.01, 'gamma': 0.3, 'dropout_rate': None, 'threshold': 2.3626476287841793} - 0.44965197215777264\n",
    "\t\t {'hidden_dims': [64], 'batch_size': 64, 'learning_rate': 0.02, 'lam': 0.0001, 'gamma': 0.2, 'dropout_rate': 0.1, 'threshold': 0.11118310242891305} - 0.4882610425785913\n",
    "\t\t {'hidden_dims': [64], 'batch_size': 64, 'learning_rate': 0.05, 'lam': 0.0001, 'gamma': 0.2, 'dropout_rate': 0.1, 'threshold': 0.13078859746456142} - 0.4988399071925754\n",
    "\t\t {'hidden_dims': [64], 'batch_size': 64, 'learning_rate': 0.1, 'lam': 0.001, 'gamma': 0.3, 'dropout_rate': 0.1, 'threshold': 0.5323553562164305} - 0.47672105053720654\n",
    "\t\t {'hidden_dims': [64], 'batch_size': 64, 'learning_rate': 0.02, 'lam': 0.001, 'gamma': 0.3, 'dropout_rate': 0.1, 'threshold': 0.19281654357910155} - 0.471150019896538\n",
    "\t\t {'hidden_dims': [64], 'batch_size': 64, 'learning_rate': 0.02, 'lam': 0.001, 'gamma': 0.25, 'dropout_rate': 0.1, 'threshold': 0.13787918984889982} - 0.46987112504353884\n",
    "\t\t {'hidden_dims': [64], 'batch_size': 64, 'learning_rate': 0.1, 'lam': 0.0001, 'gamma': 0.3, 'dropout_rate': 0.1, 'threshold': 0.33543257713317864} - 0.45986078886310905\n",
    "\t\t {'hidden_dims': [64], 'batch_size': 64, 'learning_rate': 0.02, 'lam': 0.01, 'gamma': 0.2, 'dropout_rate': 0.1, 'threshold': 1.809257006645202} - 0.45382830626450116\n",
    "\t\t {'hidden_dims': [64], 'batch_size': 64, 'learning_rate': 0.1, 'lam': 0.01, 'gamma': 0.3, 'dropout_rate': 0.1, 'threshold': 3.1338717937469474} - 0.4519721577726218\n",
    "\t\t {'hidden_dims': [64], 'batch_size': 64, 'learning_rate': 0.02, 'lam': 0.0001, 'gamma': 0.2, 'dropout_rate': 0.2, 'threshold': 0.15013233125209807} - 0.47335423197492166\n",
    "\t\t {'hidden_dims': [64], 'batch_size': 64, 'learning_rate': 0.05, 'lam': 0.0001, 'gamma': 0.2, 'dropout_rate': 0.2, 'threshold': 0.1469660639762878} - 0.4950258654994031\n",
    "\t\t {'hidden_dims': [64], 'batch_size': 64, 'learning_rate': 0.1, 'lam': 0.001, 'gamma': 0.3, 'dropout_rate': 0.2, 'threshold': 0.4559679627418512} - 0.4547563805104408\n",
    "\t\t {'hidden_dims': [64], 'batch_size': 64, 'learning_rate': 0.02, 'lam': 0.001, 'gamma': 0.3, 'dropout_rate': 0.2, 'threshold': 0.32548357248306276} - 0.4564265817747712\n",
    "\t\t {'hidden_dims': [64], 'batch_size': 64, 'learning_rate': 0.02, 'lam': 0.001, 'gamma': 0.25, 'dropout_rate': 0.2, 'threshold': 0.4146314859390259} - 0.45568445475638053\n",
    "\t\t {'hidden_dims': [64], 'batch_size': 64, 'learning_rate': 0.1, 'lam': 0.0001, 'gamma': 0.3, 'dropout_rate': 0.2, 'threshold': 0.18144038915634153} - 0.46916036609629924\n",
    "\t\t {'hidden_dims': [64], 'batch_size': 64, 'learning_rate': 0.02, 'lam': 0.01, 'gamma': 0.2, 'dropout_rate': 0.2, 'threshold': 2.4409913539886463} - 0.44965197215777264\n",
    "\t\t {'hidden_dims': [64], 'batch_size': 64, 'learning_rate': 0.1, 'lam': 0.01, 'gamma': 0.3, 'dropout_rate': 0.2, 'threshold': 1.9545942306518551} - 0.45085555113410264\"\"\""
   ]
  },
  {
   "cell_type": "code",
   "execution_count": 40,
   "metadata": {},
   "outputs": [],
   "source": [
    "a = [float(m.split(\"-\")[-1].strip()) for m in x.split(\"\\n\")][:8]\n",
    "b = [float(m.split(\"-\")[-1].strip()) for m in x.split(\"\\n\")][8:16]\n",
    "c = [float(m.split(\"-\")[-1].strip()) for m in x.split(\"\\n\")][16:]"
   ]
  },
  {
   "cell_type": "code",
   "execution_count": 41,
   "metadata": {},
   "outputs": [
    {
     "name": "stderr",
     "output_type": "stream",
     "text": [
      "/var/folders/06/p2395lk55lq23v58ccqg66w40000gn/T/ipykernel_41522/1604223936.py:4: MatplotlibDeprecationWarning: The 'labels' parameter of boxplot() has been renamed 'tick_labels' since Matplotlib 3.9; support for the old name will be dropped in 3.11.\n",
      "  plt.boxplot([a, b, c], labels=[\"a\", \"b\", \"c\"])\n"
     ]
    },
    {
     "data": {
      "image/png": "[encoded data removed]",
      "text/plain": [
       "<Figure size 600x400 with 1 Axes>"
      ]
     },
     "metadata": {},
     "output_type": "display_data"
    }
   ],
   "source": [
    "import matplotlib.pyplot as plt\n",
    "# Plot boxplot\n",
    "plt.figure(figsize=(6, 4))\n",
    "plt.boxplot([a, b, c], labels=[\"a\", \"b\", \"c\"])\n",
    "plt.title(\"Boxplot of Two Value Groups\")\n",
    "plt.ylabel(\"Values\")\n",
    "plt.grid(True)\n",
    "plt.tight_layout()\n",
    "plt.show()"
   ]
  },
  {
   "cell_type": "code",
   "execution_count": 45,
   "metadata": {},
   "outputs": [
    {
     "name": "stdout",
     "output_type": "stream",
     "text": [
      "0.470839569274575\n",
      "0.47131304976858523\n",
      "0.4631144254880115\n"
     ]
    }
   ],
   "source": [
    "from scipy.stats import trim_mean\n",
    "\n",
    "for l in [a, b, c]:\n",
    "    print(trim_mean(l, proportiontocut=0.1))"
   ]
  },
  {
   "cell_type": "code",
   "execution_count": 2,
   "metadata": {},
   "outputs": [
    {
     "data": {
      "text/plain": [
       "288"
      ]
     },
     "execution_count": 2,
     "metadata": {},
     "output_type": "execute_result"
    }
   ],
   "source": [
    "2*3*3*4*4"
   ]
  },
  {
   "cell_type": "code",
   "execution_count": null,
   "metadata": {},
   "outputs": [],
   "source": []
  }
 ],
 "metadata": {
  "kernelspec": {
   "display_name": "Python 3",
   "language": "python",
   "name": "python3"
  },
  "language_info": {
   "codemirror_mode": {
    "name": "ipython",
    "version": 3
   },
   "file_extension": ".py",
   "mimetype": "text/x-python",
   "name": "python",
   "nbconvert_exporter": "python",
   "pygments_lexer": "ipython3",
   "version": "3.11.1"
  }
 },
 "nbformat": 4,
 "nbformat_minor": 2
}
