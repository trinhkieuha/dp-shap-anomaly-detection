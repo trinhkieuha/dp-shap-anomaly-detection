{
 "cells": [
  {
   "cell_type": "code",
   "execution_count": 1,
   "metadata": {},
   "outputs": [],
   "source": [
    "# Set the working directory to the parent directory\n",
    "import sys\n",
    "sys.path.append('..')\n",
    "sys.dont_write_bytecode = True\n",
    "\n",
    "# Import relevant packages\n",
    "from src.eda import data_info\n",
    "from src.models import AutoencoderTrainer, AnomalyDetector, HybridLoss, AutoencoderTuner\n",
    "import pandas as pd\n",
    "import warnings\n",
    "import numpy as np\n",
    "from IPython.display import display\n",
    "import matplotlib.pyplot as plt\n",
    "from datetime import datetime\n",
    "\n",
    "# Config\n",
    "pd.set_option('display.max_columns', None) # Ensure all columns are displayed\n",
    "warnings.filterwarnings(\"ignore\")"
   ]
  },
  {
   "cell_type": "code",
   "execution_count": 2,
   "metadata": {},
   "outputs": [],
   "source": [
    "# Read relevant files\n",
    "X_train = pd.read_feather(\"../data/processed/X_train.feather\")\n",
    "X_train_validate = pd.read_feather(\"../data/processed/X_train_validate.feather\")\n",
    "\n",
    "# Get data info\n",
    "var_info = data_info(X_train)\n",
    "all_cols = X_train.columns\n",
    "real_cols = var_info[var_info[\"var_type\"]==\"numerical\"][\"var_name\"].tolist()\n",
    "binary_cols = var_info[var_info[\"var_type\"]==\"binary\"][\"var_name\"].tolist()"
   ]
  },
  {
   "cell_type": "markdown",
   "metadata": {},
   "source": [
    "## 1. Test the trainer"
   ]
  },
  {
   "cell_type": "code",
   "execution_count": null,
   "metadata": {},
   "outputs": [],
   "source": [
    "ae = AutoencoderTrainer(\n",
    "    input_dim=X_train.shape[1],\n",
    "    real_cols=real_cols,\n",
    "    binary_cols=binary_cols,\n",
    "    all_cols=all_cols,\n",
    "    hidden_dims=[64],\n",
    "    learning_rate=0.005,\n",
    "    dropout_rate=0.2,\n",
    "    lam=0.0001,\n",
    "    gamma=0.25,\n",
    "    verbose=True,\n",
    "    max_epochs=500,\n",
    "    plot_losses=True,\n",
    "    dp_sgd=True,\n",
    "    target_epsilon=1,\n",
    "    delta=1e-5,\n",
    "    batch_size=256,\n",
    "    l2norm_bound=0.02,\n",
    "    patience_limit=20\n",
    ")\n",
    "autoencoder = ae.train(X_train, X_train_validate)"
   ]
  },
  {
   "cell_type": "markdown",
   "metadata": {},
   "source": [
    "## 2. Test the anomaly detector"
   ]
  },
  {
   "cell_type": "code",
   "execution_count": null,
   "metadata": {},
   "outputs": [
    {
     "name": "stdout",
     "output_type": "stream",
     "text": [
      "{'accuracy': 0.6567164179104478, 'precision': 0.14485165794066318, 'recall': 0.1440347071583514, 'f1_score': 0.1444420274091799, 'auc': 0.4180458641141938}\n"
     ]
    }
   ],
   "source": [
    "# Read relevant files\n",
    "X_validate = pd.read_feather(\"../data/processed/X_validate.feather\")\n",
    "y_validate = pd.read_feather(\"../data/processed/y_validate.feather\")\n",
    "\n",
    "# After training\n",
    "detector = AnomalyDetector(\n",
    "    model=autoencoder,\n",
    "    real_cols=real_cols,\n",
    "    binary_cols=binary_cols,\n",
    "    all_cols=all_cols,\n",
    "    lam=ae.lam,\n",
    ")\n",
    "\n",
    "# Compute scores\n",
    "scores = detector._compute_anomaly_scores(X_validate)\n",
    "\n",
    "# Detect\n",
    "threshold = np.quantile(scores, 0.8)\n",
    "y_pred = detector._detect(scores, threshold)\n",
    "\n",
    "# Evaluate\n",
    "metrics = detector._evaluate(y_pred, y_validate, scores)\n",
    "print(metrics)"
   ]
  },
  {
   "cell_type": "code",
   "execution_count": null,
   "metadata": {},
   "outputs": [],
   "source": []
  }
 ],
 "metadata": {
  "kernelspec": {
   "display_name": "Python 3",
   "language": "python",
   "name": "python3"
  },
  "language_info": {
   "codemirror_mode": {
    "name": "ipython",
    "version": 3
   },
   "file_extension": ".py",
   "mimetype": "text/x-python",
   "name": "python",
   "nbconvert_exporter": "python",
   "pygments_lexer": "ipython3",
   "version": "3.11.1"
  }
 },
 "nbformat": 4,
 "nbformat_minor": 2
}
