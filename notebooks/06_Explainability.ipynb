{
 "cells": [
  {
   "cell_type": "code",
   "execution_count": 1,
   "id": "a2c88e7d",
   "metadata": {},
   "outputs": [],
   "source": [
    "# Set the working directory to the parent directory\n",
    "import sys\n",
    "sys.path.append('..')\n",
    "sys.dont_write_bytecode = True\n",
    "\n",
    "# Import relevant packages\n",
    "from src.eda import data_info\n",
    "from src.models import AutoencoderTrainer, AnomalyDetector, AutoencoderTuner\n",
    "\n",
    "# Import necessary libraries\n",
    "import shap\n",
    "import numpy as np\n",
    "import pandas as pd\n",
    "import tensorflow as tf\n",
    "import pickle"
   ]
  },
  {
   "cell_type": "code",
   "execution_count": null,
   "id": "eb45401c",
   "metadata": {},
   "outputs": [],
   "source": [
    "def explain_with_kernelshap(detector, X_test, background_size=100):\n",
    "    \"\"\"\n",
    "    Applies SHAP KernelExplainer to anomaly scores from a detector.\n",
    "\n",
    "    Parameters:\n",
    "    - detector: AnomalyDetector object with _compute_anomaly_scores method\n",
    "    - X_test: pd.DataFrame, test data\n",
    "    - background_size: int, number of samples to use as background\n",
    "\n",
    "    Returns:\n",
    "    - shap_values: list of arrays, SHAP values for each test instance\n",
    "    - explainer: the trained SHAP explainer object\n",
    "    \"\"\"\n",
    "    # Use a subset of the test set as background (mean + diverse set is typical)\n",
    "    background = X_test.sample(n=min(background_size, len(X_test)), random_state=42)\n",
    "\n",
    "    # Define a wrapper function for SHAP to call\n",
    "    def anomaly_scorer(X_input):\n",
    "        X_df = pd.DataFrame(X_input, columns=X_test.columns)\n",
    "        return detector._compute_anomaly_scores(X_df)\n",
    "\n",
    "    # Instantiate the KernelExplainer\n",
    "    explainer = shap.KernelExplainer(anomaly_scorer, background)\n",
    "\n",
    "    # Compute SHAP values for all test instances\n",
    "    shap_values = explainer.shap_values(X_test, nsamples='auto')\n",
    "\n",
    "    return shap_values, explainer"
   ]
  },
  {
   "cell_type": "code",
   "execution_count": 3,
   "id": "86fefbae",
   "metadata": {},
   "outputs": [
    {
     "name": "stdout",
     "output_type": "stream",
     "text": [
      "WARNING:tensorflow:No training configuration found in save file, so the model was *not* compiled. Compile it manually.\n"
     ]
    }
   ],
   "source": [
    "# Read relevant files\n",
    "X_test = pd.read_feather(\"../data/processed/X_test.feather\")\n",
    "y_test = pd.read_feather(\"../data/processed/y_test.feather\")\n",
    "\n",
    "# --- Extract variable types from metadata ---\n",
    "var_info = data_info(X_test)\n",
    "all_cols = X_test.columns\n",
    "real_cols = var_info[var_info[\"var_type\"] == \"numerical\"][\"var_name\"].tolist()\n",
    "binary_cols = var_info[var_info[\"var_type\"] == \"binary\"][\"var_name\"].tolist()\n",
    "\n",
    "version = \"202504180259\"\n",
    "\n",
    "model = tf.keras.models.load_model(f\"../models/baseline/{version}\")\n",
    "with open(f\"../hyperparams/baseline/{version}.pkl\", \"rb\") as f:\n",
    "    params = pickle.load(f)\n",
    "\n",
    "# After training\n",
    "detector = AnomalyDetector(\n",
    "    model=model,\n",
    "    real_cols=real_cols,\n",
    "    binary_cols=binary_cols,\n",
    "    all_cols=all_cols,\n",
    "    lam=params['lam'],\n",
    "    gamma=params['gamma'],\n",
    ")"
   ]
  },
  {
   "cell_type": "code",
   "execution_count": null,
   "id": "890c750f",
   "metadata": {},
   "outputs": [
    {
     "name": "stderr",
     "output_type": "stream",
     "text": [
      "  0%|          | 26/11457 [00:12<1:34:44,  2.01it/s]"
     ]
    }
   ],
   "source": [
    "explain_with_kernelshap(detector, X_test)"
   ]
  },
  {
   "cell_type": "code",
   "execution_count": null,
   "id": "0f47a20e",
   "metadata": {},
   "outputs": [],
   "source": []
  }
 ],
 "metadata": {
  "kernelspec": {
   "display_name": "Python 3",
   "language": "python",
   "name": "python3"
  },
  "language_info": {
   "codemirror_mode": {
    "name": "ipython",
    "version": 3
   },
   "file_extension": ".py",
   "mimetype": "text/x-python",
   "name": "python",
   "nbconvert_exporter": "python",
   "pygments_lexer": "ipython3",
   "version": "3.11.1"
  }
 },
 "nbformat": 4,
 "nbformat_minor": 5
}
