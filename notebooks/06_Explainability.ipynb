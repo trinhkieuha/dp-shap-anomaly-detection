{
 "cells": [
  {
   "cell_type": "code",
   "execution_count": 1,
   "id": "a2c88e7d",
   "metadata": {},
   "outputs": [],
   "source": [
    "# Set the working directory to the parent directory\n",
    "import sys\n",
    "sys.path.append('..')\n",
    "sys.dont_write_bytecode = True\n",
    "\n",
    "import os\n",
    "os.chdir(\"..\")\n",
    "\n",
    "# Import relevant packages\n",
    "from src.eda import data_info\n",
    "from src.explainability import ShapKernelExplainer\n",
    "\n",
    "# Import necessary libraries\n",
    "import shap\n",
    "import numpy as np\n",
    "import pandas as pd\n",
    "import tensorflow as tf\n",
    "import pickle\n",
    "import pandas as pd"
   ]
  },
  {
   "cell_type": "code",
   "execution_count": null,
   "id": "106d1766",
   "metadata": {},
   "outputs": [
    {
     "name": "stdout",
     "output_type": "stream",
     "text": [
      "WARNING:tensorflow:No training configuration found in save file, so the model was *not* compiled. Compile it manually.\n"
     ]
    },
    {
     "name": "stderr",
     "output_type": "stream",
     "text": [
      "Explaining anomalies for baseline model version: 202505080154:   3%|▎         | 19/574 [00:17<08:32,  1.08it/s]"
     ]
    }
   ],
   "source": [
    "version = \"202505112013\"\n",
    "model_type = \"baseline\"\n",
    "\n",
    "shap_init = ShapKernelExplainer(model_type=model_type)\n",
    "shap_init.explain_all_versions()"
   ]
  }
 ],
 "metadata": {
  "kernelspec": {
   "display_name": "Python 3",
   "language": "python",
   "name": "python3"
  },
  "language_info": {
   "codemirror_mode": {
    "name": "ipython",
    "version": 3
   },
   "file_extension": ".py",
   "mimetype": "text/x-python",
   "name": "python",
   "nbconvert_exporter": "python",
   "pygments_lexer": "ipython3",
   "version": "3.11.1"
  }
 },
 "nbformat": 4,
 "nbformat_minor": 5
}
