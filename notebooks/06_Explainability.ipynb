{
 "cells": [
  {
   "cell_type": "code",
   "execution_count": 1,
   "id": "a2c88e7d",
   "metadata": {},
   "outputs": [],
   "source": [
    "# Set the working directory to the parent directory\n",
    "import sys\n",
    "sys.path.append('..')\n",
    "sys.dont_write_bytecode = True\n",
    "\n",
    "import os\n",
    "os.chdir(\"..\")\n",
    "\n",
    "# Import relevant packages\n",
    "from src.eda import data_info\n",
    "from src.models import AutoencoderTrainer, AnomalyDetector, AutoencoderTuner\n",
    "from src.explainability import ShapKernelExplainer\n",
    "\n",
    "# Import necessary libraries\n",
    "import shap\n",
    "import numpy as np\n",
    "import pandas as pd\n",
    "import tensorflow as tf\n",
    "import pickle"
   ]
  },
  {
   "cell_type": "code",
   "execution_count": 2,
   "id": "0f47a20e",
   "metadata": {},
   "outputs": [],
   "source": [
    "baseline_explainer = ShapKernelExplainer(model_type='baseline')"
   ]
  },
  {
   "cell_type": "code",
   "execution_count": null,
   "id": "79cf8ed0",
   "metadata": {},
   "outputs": [
    {
     "name": "stdout",
     "output_type": "stream",
     "text": [
      "WARNING:tensorflow:No training configuration found in save file, so the model was *not* compiled. Compile it manually.\n"
     ]
    },
    {
     "name": "stderr",
     "output_type": "stream",
     "text": [
      "  1%|▏         | 152/11457 [01:49<2:30:54,  1.25it/s]"
     ]
    }
   ],
   "source": [
    "detector, noise_multiplier = baseline_explainer.version_info_extract(version='202505080012')\n",
    "explain_with_kernelshap = baseline_explainer.explain_with_kernelshap(detector, noise_multiplier=noise_multiplier)\n",
    "print(\"Kernel SHAP explanation completed.\")"
   ]
  },
  {
   "cell_type": "code",
   "execution_count": null,
   "id": "44bf075d",
   "metadata": {},
   "outputs": [],
   "source": []
  }
 ],
 "metadata": {
  "kernelspec": {
   "display_name": "Python 3",
   "language": "python",
   "name": "python3"
  },
  "language_info": {
   "codemirror_mode": {
    "name": "ipython",
    "version": 3
   },
   "file_extension": ".py",
   "mimetype": "text/x-python",
   "name": "python",
   "nbconvert_exporter": "python",
   "pygments_lexer": "ipython3",
   "version": "3.11.1"
  }
 },
 "nbformat": 4,
 "nbformat_minor": 5
}
