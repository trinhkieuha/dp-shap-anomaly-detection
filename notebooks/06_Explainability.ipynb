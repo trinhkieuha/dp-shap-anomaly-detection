{
 "cells": [
  {
   "cell_type": "code",
   "execution_count": 1,
   "id": "a2c88e7d",
   "metadata": {},
   "outputs": [],
   "source": [
    "# Set the working directory to the parent directory\n",
    "import sys\n",
    "sys.path.append('..')\n",
    "sys.dont_write_bytecode = True\n",
    "\n",
    "import os\n",
    "os.chdir(\"..\")\n",
    "\n",
    "# Import relevant packages\n",
    "from src.eda import data_info\n",
    "from src.models import AutoencoderTrainer, AnomalyDetector, AutoencoderTuner\n",
    "from src.explainability import ShapKernelExplainer\n",
    "\n",
    "# Import necessary libraries\n",
    "import shap\n",
    "import numpy as np\n",
    "import pandas as pd\n",
    "import tensorflow as tf\n",
    "import pickle\n",
    "import pandas as pd"
   ]
  },
  {
   "cell_type": "code",
   "execution_count": null,
   "id": "44bf075d",
   "metadata": {},
   "outputs": [
    {
     "data": {
      "text/plain": [
       "0     202505070419\n",
       "1     202505070955\n",
       "2     202505071004\n",
       "3     202505071236\n",
       "4     202505071332\n",
       "5     202505111328\n",
       "6     202505110210\n",
       "7     202505102039\n",
       "8     202505101605\n",
       "9     202505070326\n",
       "10    202505070348\n",
       "11    202505070407\n",
       "Name: version, dtype: int64"
      ]
     },
     "execution_count": 5,
     "metadata": {},
     "output_type": "execute_result"
    }
   ],
   "source": [
    "dpsgd_versions = pd.read_csv('experiments/perf_summary/dpsgd_val_results.csv')\n",
    "dpsgd_explainer = ShapKernelExplainer(model_type='dpsgd')\n",
    "for version in dpsgd_versions[\"version\"].tolist():\n",
    "    detector, noise_multiplier = dpsgd_explainer.version_info_extract(version=version)\n",
    "    explain_with_kernelshap = dpsgd_explainer.explain_with_kernelshap(detector, noise_multiplier=noise_multiplier)\n",
    "    print(\"Kernel SHAP explanation completed.\")"
   ]
  }
 ],
 "metadata": {
  "kernelspec": {
   "display_name": "Python 3",
   "language": "python",
   "name": "python3"
  },
  "language_info": {
   "codemirror_mode": {
    "name": "ipython",
    "version": 3
   },
   "file_extension": ".py",
   "mimetype": "text/x-python",
   "name": "python",
   "nbconvert_exporter": "python",
   "pygments_lexer": "ipython3",
   "version": "3.11.1"
  }
 },
 "nbformat": 4,
 "nbformat_minor": 5
}
